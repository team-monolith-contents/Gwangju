{
 "cells": [
  {
   "cell_type": "code",
   "execution_count": 16,
   "id": "bae65f6b-1328-4451-bfa3-9ee8da7a03a0",
   "metadata": {},
   "outputs": [],
   "source": [
    "import urllib\n",
    "from matplotlib import font_manager\n",
    "from matplotlib import pyplot as plt\n",
    "\n",
    "font_path = 'NanumGothic.ttf'\n",
    "with open(font_path, 'wb') as f: \n",
    "    f.write(urllib.request.urlopen(\"https://github.com/team-monolith-product/jupyter-nanum/raw/main/NanumGothic.ttf\").read())\n",
    "\n",
    "# 글꼴을 등록합니다.\n",
    "font_manager.fontManager.addfont(font_path)\n",
    "plt.rcParams['font.family'] = font_manager.FontProperties(fname=font_path).get_name()"
   ]
  }
 ],
 "metadata": {
  "kernelspec": {
   "display_name": "Python 3 (ipykernel)",
   "language": "python",
   "name": "python3"
  },
  "language_info": {
   "codemirror_mode": {
    "name": "ipython",
    "version": 3
   },
   "file_extension": ".py",
   "mimetype": "text/x-python",
   "name": "python",
   "nbconvert_exporter": "python",
   "pygments_lexer": "ipython3",
   "version": "3.10.4"
  }
 },
 "nbformat": 4,
 "nbformat_minor": 5
}
