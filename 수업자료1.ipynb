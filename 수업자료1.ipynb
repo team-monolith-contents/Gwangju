{
 "cells": [
  {
   "cell_type": "markdown",
   "id": "703b3b7d-8af0-4f66-a55d-acb56831eb63",
   "metadata": {},
   "source": [
    "# 수업자료입니다."
   ]
  },
  {
   "cell_type": "markdown",
   "id": "a67ce663-9101-4ae2-8c9b-38373af3ed17",
   "metadata": {},
   "source": [
    "Hello Codle을 프린트하는 프로그램을 작성해봅시다.\n",
    "<a href='#jce-judge/open/112' target='_self'><h3>안녕, 코들 2</h3></a>"
   ]
  },
  {
   "cell_type": "code",
   "execution_count": 2,
   "id": "686cd79a-bfb4-4c8a-8125-a2cf7b4c31b9",
   "metadata": {
    "tags": [
     "jce.problems.953.문제1"
    ]
   },
   "outputs": [
    {
     "name": "stdout",
     "output_type": "stream",
     "text": [
      "Hello Codle\n"
     ]
    }
   ],
   "source": [
    "print('Hello Codle')"
   ]
  }
 ],
 "metadata": {
  "kernelspec": {
   "display_name": "Python 3 (ipykernel)",
   "language": "python",
   "name": "python3"
  },
  "language_info": {
   "codemirror_mode": {
    "name": "ipython",
    "version": 3
   },
   "file_extension": ".py",
   "mimetype": "text/x-python",
   "name": "python",
   "nbconvert_exporter": "python",
   "pygments_lexer": "ipython3",
   "version": "3.10.4"
  }
 },
 "nbformat": 4,
 "nbformat_minor": 5
}
