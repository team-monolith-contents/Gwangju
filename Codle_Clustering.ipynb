{
 "cells": [
  {
   "cell_type": "markdown",
   "id": "e99c4d26-e300-42fc-b3ca-7abbd2c51c7f",
   "metadata": {},
   "source": [
    "# [STEP 1] 데이터 준비하기 : 수강생의 나이와 게임 점수를 dataframe으로 입력하기"
   ]
  },
  {
   "cell_type": "code",
   "execution_count": 2,
   "id": "95ad5902-3ce5-4d4c-a993-03630aebf6af",
   "metadata": {},
   "outputs": [
    {
     "data": {
      "text/html": [
       "<div>\n",
       "<style scoped>\n",
       "    .dataframe tbody tr th:only-of-type {\n",
       "        vertical-align: middle;\n",
       "    }\n",
       "\n",
       "    .dataframe tbody tr th {\n",
       "        vertical-align: top;\n",
       "    }\n",
       "\n",
       "    .dataframe thead th {\n",
       "        text-align: right;\n",
       "    }\n",
       "</style>\n",
       "<table border=\"1\" class=\"dataframe\">\n",
       "  <thead>\n",
       "    <tr style=\"text-align: right;\">\n",
       "      <th></th>\n",
       "      <th>Age</th>\n",
       "      <th>Score</th>\n",
       "    </tr>\n",
       "  </thead>\n",
       "  <tbody>\n",
       "    <tr>\n",
       "      <th>0</th>\n",
       "      <td>26</td>\n",
       "      <td>75</td>\n",
       "    </tr>\n",
       "    <tr>\n",
       "      <th>1</th>\n",
       "      <td>24</td>\n",
       "      <td>83</td>\n",
       "    </tr>\n",
       "    <tr>\n",
       "      <th>2</th>\n",
       "      <td>23</td>\n",
       "      <td>78</td>\n",
       "    </tr>\n",
       "    <tr>\n",
       "      <th>3</th>\n",
       "      <td>24</td>\n",
       "      <td>82</td>\n",
       "    </tr>\n",
       "    <tr>\n",
       "      <th>4</th>\n",
       "      <td>25</td>\n",
       "      <td>93</td>\n",
       "    </tr>\n",
       "  </tbody>\n",
       "</table>\n",
       "</div>"
      ],
      "text/plain": [
       "   Age  Score\n",
       "0   26     75\n",
       "1   24     83\n",
       "2   23     78\n",
       "3   24     82\n",
       "4   25     93"
      ]
     },
     "execution_count": 2,
     "metadata": {},
     "output_type": "execute_result"
    }
   ],
   "source": [
    "import pandas as pd\n",
    "import numpy as np\n",
    "from sklearn.cluster import KMeans\n",
    "from sklearn.preprocessing import MinMaxScaler\n",
    "from matplotlib import pyplot as plt\n",
    "%matplotlib inline\n",
    "\n",
    "df = pd.DataFrame(np.array([[26,75],[24,83],[23,78],[24,82],\n",
    "                            [25,93],[26,87],[17,96],[18,83],\n",
    "                            [19,80],[30,79],[31,82],[32,62],\n",
    "                           [33,92],[34,91],[45,83],[46,80],\n",
    "                            [37,82],[18,93],[19,84],[40,74]]),columns=['Age','Score'])\n",
    "df.head(5)"
   ]
  },
  {
   "cell_type": "markdown",
   "id": "0374a42b-cad9-400b-8c2b-afa01c60a121",
   "metadata": {},
   "source": [
    "# [STEP 2] 데이터를 학습하기"
   ]
  },
  {
   "cell_type": "code",
   "execution_count": 3,
   "id": "d25a24ac-ceba-41c2-a1c7-7b6d17db07c0",
   "metadata": {},
   "outputs": [
    {
     "data": {
      "text/html": [
       "<div>\n",
       "<style scoped>\n",
       "    .dataframe tbody tr th:only-of-type {\n",
       "        vertical-align: middle;\n",
       "    }\n",
       "\n",
       "    .dataframe tbody tr th {\n",
       "        vertical-align: top;\n",
       "    }\n",
       "\n",
       "    .dataframe thead th {\n",
       "        text-align: right;\n",
       "    }\n",
       "</style>\n",
       "<table border=\"1\" class=\"dataframe\">\n",
       "  <thead>\n",
       "    <tr style=\"text-align: right;\">\n",
       "      <th></th>\n",
       "      <th>Age</th>\n",
       "      <th>Score</th>\n",
       "      <th>cluster</th>\n",
       "    </tr>\n",
       "  </thead>\n",
       "  <tbody>\n",
       "    <tr>\n",
       "      <th>0</th>\n",
       "      <td>26</td>\n",
       "      <td>75</td>\n",
       "      <td>0</td>\n",
       "    </tr>\n",
       "    <tr>\n",
       "      <th>1</th>\n",
       "      <td>24</td>\n",
       "      <td>83</td>\n",
       "      <td>0</td>\n",
       "    </tr>\n",
       "    <tr>\n",
       "      <th>2</th>\n",
       "      <td>23</td>\n",
       "      <td>78</td>\n",
       "      <td>0</td>\n",
       "    </tr>\n",
       "    <tr>\n",
       "      <th>3</th>\n",
       "      <td>24</td>\n",
       "      <td>82</td>\n",
       "      <td>0</td>\n",
       "    </tr>\n",
       "    <tr>\n",
       "      <th>4</th>\n",
       "      <td>25</td>\n",
       "      <td>93</td>\n",
       "      <td>1</td>\n",
       "    </tr>\n",
       "  </tbody>\n",
       "</table>\n",
       "</div>"
      ],
      "text/plain": [
       "   Age  Score  cluster\n",
       "0   26     75        0\n",
       "1   24     83        0\n",
       "2   23     78        0\n",
       "3   24     82        0\n",
       "4   25     93        1"
      ]
     },
     "execution_count": 3,
     "metadata": {},
     "output_type": "execute_result"
    }
   ],
   "source": [
    "kM_model = KMeans(n_clusters =3)                  #클러스터의 갯수는 3개이다. \n",
    "y_pred =kM_model.fit_predict(df[['Age','Score']]) # 3개의 집단으로 사람을 분류하는데, 나이와 점수 데이터릏 활용한다./ \n",
    "df['cluster'] = y_pred                            # 사람들이 어떤 집단에 속하는지 데이터 프레임에 추가한다.  \n",
    "df.head()"
   ]
  },
  {
   "cell_type": "markdown",
   "id": "7471b2a1-2ed8-426e-896b-2a4bbd96e460",
   "metadata": {},
   "source": [
    "# [STEP 3] 클러스터링을 통해 학습한 데이터를 시각화하기"
   ]
  },
  {
   "cell_type": "code",
   "execution_count": 5,
   "id": "f0998840-4223-4989-b99a-07ebca21add3",
   "metadata": {},
   "outputs": [
    {
     "data": {
      "text/plain": [
       "Text(0, 0.5, 'Score')"
      ]
     },
     "execution_count": 5,
     "metadata": {},
     "output_type": "execute_result"
    },
    {
     "data": {
      "image/png": "[encoded data removed]",
      "text/plain": [
       "<Figure size 432x288 with 1 Axes>"
      ]
     },
     "metadata": {
      "needs_background": "light"
     },
     "output_type": "display_data"
    }
   ],
   "source": [
    "df1 = df[df.cluster==0]\n",
    "df2 = df[df.cluster==1]\n",
    "df3 = df[df.cluster==2]\n",
    "# 해당하는 cluster의 값이 0,1,2,의 경우 각각 df1,df2,df3 데이터프레임에 저장합니다. \n",
    "\n",
    "plt.scatter(df1['Age'],df1['Score'],color = 'red')\n",
    "plt.scatter(df2['Age'],df2['Score'],color = 'blue')\n",
    "plt.scatter(df3['Age'],df3['Score'],color = 'green')\n",
    "# df1,df2,df3의 분포를 표현할때 색깔을 지정합니다. \n",
    "\n",
    "plt.title('Math Score')\n",
    "plt.xlabel('Age')\n",
    "plt.ylabel('Score')  \n",
    "#그래프의 x,y축과 제목을 입력합니다. "
   ]
  },
  {
   "cell_type": "markdown",
   "id": "009b03ee-0f53-403b-8296-6a095669f2e7",
   "metadata": {},
   "source": [
    "# [STEP 4] 학습한 결과를 요약하기"
   ]
  },
  {
   "cell_type": "code",
   "execution_count": 6,
   "id": "06da606d-4b56-4b42-a1c5-3af9a1741814",
   "metadata": {},
   "outputs": [
    {
     "data": {
      "text/html": [
       "<div>\n",
       "<style scoped>\n",
       "    .dataframe tbody tr th:only-of-type {\n",
       "        vertical-align: middle;\n",
       "    }\n",
       "\n",
       "    .dataframe tbody tr th {\n",
       "        vertical-align: top;\n",
       "    }\n",
       "\n",
       "    .dataframe thead th {\n",
       "        text-align: right;\n",
       "    }\n",
       "</style>\n",
       "<table border=\"1\" class=\"dataframe\">\n",
       "  <thead>\n",
       "    <tr style=\"text-align: right;\">\n",
       "      <th></th>\n",
       "      <th>Age</th>\n",
       "      <th>Score</th>\n",
       "      <th>cluster</th>\n",
       "    </tr>\n",
       "  </thead>\n",
       "  <tbody>\n",
       "    <tr>\n",
       "      <th>count</th>\n",
       "      <td>20.0000</td>\n",
       "      <td>20.000000</td>\n",
       "      <td>20.000000</td>\n",
       "    </tr>\n",
       "    <tr>\n",
       "      <th>mean</th>\n",
       "      <td>28.3500</td>\n",
       "      <td>82.950000</td>\n",
       "      <td>0.950000</td>\n",
       "    </tr>\n",
       "    <tr>\n",
       "      <th>std</th>\n",
       "      <td>8.8334</td>\n",
       "      <td>7.877182</td>\n",
       "      <td>0.825578</td>\n",
       "    </tr>\n",
       "    <tr>\n",
       "      <th>min</th>\n",
       "      <td>17.0000</td>\n",
       "      <td>62.000000</td>\n",
       "      <td>0.000000</td>\n",
       "    </tr>\n",
       "    <tr>\n",
       "      <th>25%</th>\n",
       "      <td>22.0000</td>\n",
       "      <td>79.750000</td>\n",
       "      <td>0.000000</td>\n",
       "    </tr>\n",
       "    <tr>\n",
       "      <th>50%</th>\n",
       "      <td>26.0000</td>\n",
       "      <td>82.500000</td>\n",
       "      <td>1.000000</td>\n",
       "    </tr>\n",
       "    <tr>\n",
       "      <th>75%</th>\n",
       "      <td>33.2500</td>\n",
       "      <td>88.000000</td>\n",
       "      <td>2.000000</td>\n",
       "    </tr>\n",
       "    <tr>\n",
       "      <th>max</th>\n",
       "      <td>46.0000</td>\n",
       "      <td>96.000000</td>\n",
       "      <td>2.000000</td>\n",
       "    </tr>\n",
       "  </tbody>\n",
       "</table>\n",
       "</div>"
      ],
      "text/plain": [
       "           Age      Score    cluster\n",
       "count  20.0000  20.000000  20.000000\n",
       "mean   28.3500  82.950000   0.950000\n",
       "std     8.8334   7.877182   0.825578\n",
       "min    17.0000  62.000000   0.000000\n",
       "25%    22.0000  79.750000   0.000000\n",
       "50%    26.0000  82.500000   1.000000\n",
       "75%    33.2500  88.000000   2.000000\n",
       "max    46.0000  96.000000   2.000000"
      ]
     },
     "execution_count": 6,
     "metadata": {},
     "output_type": "execute_result"
    }
   ],
   "source": [
    "df.describe() #전체적인 분포를 알아볼 때 활용하는 describe()함수입니다. "
   ]
  },
  {
   "cell_type": "markdown",
   "id": "8c65f8d5-a8a3-4145-8cf7-594428f24742",
   "metadata": {},
   "source": [
    "# [STEP 5] 데이터를 0~1사이의 값으로 정규화하기"
   ]
  },
  {
   "cell_type": "code",
   "execution_count": 5,
   "id": "e1199d45-fe1f-4119-bada-fa184ad24adc",
   "metadata": {},
   "outputs": [
    {
     "data": {
      "text/html": [
       "<div>\n",
       "<style scoped>\n",
       "    .dataframe tbody tr th:only-of-type {\n",
       "        vertical-align: middle;\n",
       "    }\n",
       "\n",
       "    .dataframe tbody tr th {\n",
       "        vertical-align: top;\n",
       "    }\n",
       "\n",
       "    .dataframe thead th {\n",
       "        text-align: right;\n",
       "    }\n",
       "</style>\n",
       "<table border=\"1\" class=\"dataframe\">\n",
       "  <thead>\n",
       "    <tr style=\"text-align: right;\">\n",
       "      <th></th>\n",
       "      <th>Age</th>\n",
       "      <th>Score</th>\n",
       "      <th>cluster</th>\n",
       "    </tr>\n",
       "  </thead>\n",
       "  <tbody>\n",
       "    <tr>\n",
       "      <th>0</th>\n",
       "      <td>0.310345</td>\n",
       "      <td>0.382353</td>\n",
       "      <td>0</td>\n",
       "    </tr>\n",
       "    <tr>\n",
       "      <th>1</th>\n",
       "      <td>0.241379</td>\n",
       "      <td>0.617647</td>\n",
       "      <td>0</td>\n",
       "    </tr>\n",
       "    <tr>\n",
       "      <th>2</th>\n",
       "      <td>0.206897</td>\n",
       "      <td>0.470588</td>\n",
       "      <td>0</td>\n",
       "    </tr>\n",
       "    <tr>\n",
       "      <th>3</th>\n",
       "      <td>0.241379</td>\n",
       "      <td>0.588235</td>\n",
       "      <td>0</td>\n",
       "    </tr>\n",
       "    <tr>\n",
       "      <th>4</th>\n",
       "      <td>0.275862</td>\n",
       "      <td>0.911765</td>\n",
       "      <td>1</td>\n",
       "    </tr>\n",
       "  </tbody>\n",
       "</table>\n",
       "</div>"
      ],
      "text/plain": [
       "        Age     Score  cluster\n",
       "0  0.310345  0.382353        0\n",
       "1  0.241379  0.617647        0\n",
       "2  0.206897  0.470588        0\n",
       "3  0.241379  0.588235        0\n",
       "4  0.275862  0.911765        1"
      ]
     },
     "execution_count": 5,
     "metadata": {},
     "output_type": "execute_result"
    }
   ],
   "source": [
    "scaler = MinMaxScaler()                       #사람들의 나이와 게임 점수를 0과 1사이의 값들로 표현하기 위하여 MinmaxScaler() 함수를 활용합니다. \n",
    "scaler.fit(df[['Age']]) \n",
    "df['Age']=scaler.transform(df[['Age']])\n",
    "\n",
    "scaler.fit(df[['Score']]) \n",
    "df['Score'] = scaler.transform(df[['Score']]) \n",
    "df.head()\n",
    "                                              #이렇게 Age와 Score함수를 scaler 함수를 통해 0과 1사이로 변환한 후 이를 df의 Age와 Score 행에 새롭게 저장합니다. \n"
   ]
  },
  {
   "cell_type": "markdown",
   "id": "1dfb505c-c6b5-436d-923f-f00c8ca713eb",
   "metadata": {},
   "source": [
    "# [STEP 6] 정규화한 데이터를 활용하여 학습하기"
   ]
  },
  {
   "cell_type": "code",
   "execution_count": 6,
   "id": "18926d4a-b345-49ee-93ed-53ebf5cc6df9",
   "metadata": {},
   "outputs": [
    {
     "data": {
      "text/html": [
       "<div>\n",
       "<style scoped>\n",
       "    .dataframe tbody tr th:only-of-type {\n",
       "        vertical-align: middle;\n",
       "    }\n",
       "\n",
       "    .dataframe tbody tr th {\n",
       "        vertical-align: top;\n",
       "    }\n",
       "\n",
       "    .dataframe thead th {\n",
       "        text-align: right;\n",
       "    }\n",
       "</style>\n",
       "<table border=\"1\" class=\"dataframe\">\n",
       "  <thead>\n",
       "    <tr style=\"text-align: right;\">\n",
       "      <th></th>\n",
       "      <th>Age</th>\n",
       "      <th>Score</th>\n",
       "      <th>cluster</th>\n",
       "    </tr>\n",
       "  </thead>\n",
       "  <tbody>\n",
       "    <tr>\n",
       "      <th>0</th>\n",
       "      <td>0.310345</td>\n",
       "      <td>0.382353</td>\n",
       "      <td>0</td>\n",
       "    </tr>\n",
       "    <tr>\n",
       "      <th>1</th>\n",
       "      <td>0.241379</td>\n",
       "      <td>0.617647</td>\n",
       "      <td>0</td>\n",
       "    </tr>\n",
       "    <tr>\n",
       "      <th>2</th>\n",
       "      <td>0.206897</td>\n",
       "      <td>0.470588</td>\n",
       "      <td>0</td>\n",
       "    </tr>\n",
       "    <tr>\n",
       "      <th>3</th>\n",
       "      <td>0.241379</td>\n",
       "      <td>0.588235</td>\n",
       "      <td>0</td>\n",
       "    </tr>\n",
       "    <tr>\n",
       "      <th>4</th>\n",
       "      <td>0.275862</td>\n",
       "      <td>0.911765</td>\n",
       "      <td>2</td>\n",
       "    </tr>\n",
       "  </tbody>\n",
       "</table>\n",
       "</div>"
      ],
      "text/plain": [
       "        Age     Score  cluster\n",
       "0  0.310345  0.382353        0\n",
       "1  0.241379  0.617647        0\n",
       "2  0.206897  0.470588        0\n",
       "3  0.241379  0.588235        0\n",
       "4  0.275862  0.911765        2"
      ]
     },
     "execution_count": 6,
     "metadata": {},
     "output_type": "execute_result"
    }
   ],
   "source": [
    "kM_model = KMeans(n_clusters = 3)                   #총 cluster의 수를 3개로 설정합니다. \n",
    "y_pred = kM_model.fit_predict(df[['Age', 'Score']]) #정규화 한 Age, Score의 값들이 어떤 cluster에 속하는지 학습합니다. \n",
    "df['cluster'] = y_pred \n",
    "df.head(5)"
   ]
  },
  {
   "cell_type": "markdown",
   "id": "724e66d4-5cbe-489f-ae25-1264258df48f",
   "metadata": {},
   "source": [
    "# [STEP 7] 클러스터의 중심값 출력하기"
   ]
  },
  {
   "cell_type": "code",
   "execution_count": 9,
   "id": "f353010b-0216-4d1e-8305-acaf170b0387",
   "metadata": {},
   "outputs": [
    {
     "data": {
      "text/plain": [
       "array([[0.14176245, 0.72875817],\n",
       "       [0.76436782, 0.6372549 ],\n",
       "       [0.39310345, 0.38823529]])"
      ]
     },
     "execution_count": 9,
     "metadata": {},
     "output_type": "execute_result"
    }
   ],
   "source": [
    "kM_model.cluster_centers_ #3개의 cluster의 중심값을 출력합니다. "
   ]
  },
  {
   "cell_type": "markdown",
   "id": "1ac3a594-f640-43c9-89ca-ce5b8e3c9901",
   "metadata": {},
   "source": [
    "# [STEP 8] 학습한결과를 중심과 함께 시각화하기"
   ]
  },
  {
   "cell_type": "code",
   "execution_count": 7,
   "id": "2f4527a9-b102-44c9-a868-5b3f1ed7ca05",
   "metadata": {},
   "outputs": [
    {
     "data": {
      "text/plain": [
       "<matplotlib.legend.Legend at 0x7fcd220e0d90>"
      ]
     },
     "execution_count": 7,
     "metadata": {},
     "output_type": "execute_result"
    },
    {
     "data": {
      "image/png": "[encoded data removed]",
      "text/plain": [
       "<Figure size 432x288 with 1 Axes>"
      ]
     },
     "metadata": {
      "needs_background": "light"
     },
     "output_type": "display_data"
    }
   ],
   "source": [
    "df1 = df[df.cluster == 0] \n",
    "df2 = df[df.cluster == 1] \n",
    "df3 = df[df.cluster == 2] \n",
    "plt.scatter(df1['Age'], df1['Score'], color = 'red') \n",
    "plt.scatter(df2['Age'], df2['Score'], color = 'blue') \n",
    "plt.scatter(df3['Age'], df3['Score'], color = 'green')\n",
    "#df1, df2, df3의 3개 클러스터를 색상별로 지정한 후 산점도를 표현합니다. \n",
    "\n",
    "plt.scatter( kM_model.cluster_centers_[ :, 0], kM_model.cluster_centers_[ :, 1], color = 'purple', marker = '*', label = 'centroid') \n",
    "#cluster의 중심값을 표현하기 위해 color, marker, label값을 저장합니다. \n",
    "\n",
    "plt.title('Game Score with Age') \n",
    "plt.xlabel('Age') \n",
    "plt.ylabel('Score') \n",
    "#표의 x축, y축, 이름을 저장합니다. \n",
    "\n",
    "plt.legend( )"
   ]
  }
 ],
 "metadata": {
  "kernelspec": {
   "display_name": "Python 3 (ipykernel)",
   "language": "python",
   "name": "python3"
  },
  "language_info": {
   "codemirror_mode": {
    "name": "ipython",
    "version": 3
   },
   "file_extension": ".py",
   "mimetype": "text/x-python",
   "name": "python",
   "nbconvert_exporter": "python",
   "pygments_lexer": "ipython3",
   "version": "3.10.4"
  }
 },
 "nbformat": 4,
 "nbformat_minor": 5
}
