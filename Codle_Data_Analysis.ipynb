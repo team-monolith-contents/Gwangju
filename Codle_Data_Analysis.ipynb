{
 "cells": [
  {
   "cell_type": "markdown",
   "metadata": {
    "id": "GdtUnqPMNKhR"
   },
   "source": [
    "# [STEP 1] 파이선으로 데이터 불러오기"
   ]
  },
  {
   "cell_type": "code",
   "execution_count": 44,
   "metadata": {
    "colab": {
     "base_uri": "https://localhost:8080/",
     "height": 205
    },
    "executionInfo": {
     "elapsed": 780,
     "status": "ok",
     "timestamp": 1628955612054,
     "user": {
      "displayName": "현녀유",
      "photoUrl": "",
      "userId": "16057793602795239739"
     },
     "user_tz": -540
    },
    "id": "-JXdPVPcTfo2",
    "outputId": "fbab18d7-d5aa-48f6-e23d-e9066ea07560"
   },
   "outputs": [
    {
     "data": {
      "text/html": [
       "<div>\n",
       "<style scoped>\n",
       "    .dataframe tbody tr th:only-of-type {\n",
       "        vertical-align: middle;\n",
       "    }\n",
       "\n",
       "    .dataframe tbody tr th {\n",
       "        vertical-align: top;\n",
       "    }\n",
       "\n",
       "    .dataframe thead th {\n",
       "        text-align: right;\n",
       "    }\n",
       "</style>\n",
       "<table border=\"1\" class=\"dataframe\">\n",
       "  <thead>\n",
       "    <tr style=\"text-align: right;\">\n",
       "      <th></th>\n",
       "      <th>연번</th>\n",
       "      <th>상호명</th>\n",
       "      <th>소재지도로명주소</th>\n",
       "      <th>전화번호</th>\n",
       "      <th>비고</th>\n",
       "      <th>데이터기준일자</th>\n",
       "    </tr>\n",
       "  </thead>\n",
       "  <tbody>\n",
       "    <tr>\n",
       "      <th>0</th>\n",
       "      <td>1</td>\n",
       "      <td>100족발본점</td>\n",
       "      <td>광주광역시 광산구</td>\n",
       "      <td>062-951-1033</td>\n",
       "      <td>건강맛집</td>\n",
       "      <td>2021-11-30</td>\n",
       "    </tr>\n",
       "    <tr>\n",
       "      <th>1</th>\n",
       "      <td>2</td>\n",
       "      <td>강의리추어탕</td>\n",
       "      <td>광주광역시 북구</td>\n",
       "      <td>062-527-0937</td>\n",
       "      <td>건강맛집</td>\n",
       "      <td>2021-11-30</td>\n",
       "    </tr>\n",
       "    <tr>\n",
       "      <th>2</th>\n",
       "      <td>3</td>\n",
       "      <td>강촌</td>\n",
       "      <td>광주광역시 서구</td>\n",
       "      <td>062-374-3579</td>\n",
       "      <td>건강맛집</td>\n",
       "      <td>2021-11-30</td>\n",
       "    </tr>\n",
       "    <tr>\n",
       "      <th>3</th>\n",
       "      <td>4</td>\n",
       "      <td>관가</td>\n",
       "      <td>광주광역시 동구</td>\n",
       "      <td>062-226-0040</td>\n",
       "      <td>건강맛집</td>\n",
       "      <td>2021-11-30</td>\n",
       "    </tr>\n",
       "    <tr>\n",
       "      <th>4</th>\n",
       "      <td>5</td>\n",
       "      <td>광후장어</td>\n",
       "      <td>광주광역시 광산구</td>\n",
       "      <td>062-954-5900</td>\n",
       "      <td>건강맛집</td>\n",
       "      <td>2021-11-30</td>\n",
       "    </tr>\n",
       "  </tbody>\n",
       "</table>\n",
       "</div>"
      ],
      "text/plain": [
       "   연번      상호명   소재지도로명주소          전화번호    비고     데이터기준일자\n",
       "0   1  100족발본점  광주광역시 광산구  062-951-1033  건강맛집  2021-11-30\n",
       "1   2   강의리추어탕   광주광역시 북구  062-527-0937  건강맛집  2021-11-30\n",
       "2   3       강촌   광주광역시 서구  062-374-3579  건강맛집  2021-11-30\n",
       "3   4       관가  광주광역시 동구   062-226-0040  건강맛집  2021-11-30\n",
       "4   5     광후장어  광주광역시 광산구  062-954-5900  건강맛집  2021-11-30"
      ]
     },
     "execution_count": 44,
     "metadata": {},
     "output_type": "execute_result"
    }
   ],
   "source": [
    "import pandas as pd                                      # 판다스 모듈 호출\n",
    "\n",
    "path='광주광역시_광주맛집_8기.csv'\n",
    "Gwangju_restaurant = pd.read_csv(path, encoding='cp949') # cp949 방식으로 인코딩된 광주광역시_광주맛집_8기.csv파일을 불러와서 Gwangju_restaurant 데이터 프레임에 저장\n",
    "Gwangju_restaurant.head()                                # 데이터 프레임 내용 출럭\n"
   ]
  },
  {
   "cell_type": "markdown",
   "metadata": {
    "id": "GAi2QKqdNb-b"
   },
   "source": [
    "# [STEP 2] 데이터의 구성 정보 알아보기"
   ]
  },
  {
   "cell_type": "code",
   "execution_count": 13,
   "metadata": {
    "colab": {
     "base_uri": "https://localhost:8080/"
    },
    "executionInfo": {
     "elapsed": 292,
     "status": "ok",
     "timestamp": 1628955626247,
     "user": {
      "displayName": "현녀유",
      "photoUrl": "",
      "userId": "16057793602795239739"
     },
     "user_tz": -540
    },
    "id": "dcWl4ymgVhr0",
    "outputId": "43d6de31-7079-4706-f320-2852d0d12d70"
   },
   "outputs": [
    {
     "name": "stdout",
     "output_type": "stream",
     "text": [
      "<class 'pandas.core.frame.DataFrame'>\n",
      "RangeIndex: 67 entries, 0 to 66\n",
      "Data columns (total 6 columns):\n",
      " #   Column    Non-Null Count  Dtype \n",
      "---  ------    --------------  ----- \n",
      " 0   연번        67 non-null     int64 \n",
      " 1   상호명       67 non-null     object\n",
      " 2   소재지도로명주소  67 non-null     object\n",
      " 3   전화번호      67 non-null     object\n",
      " 4   비고        67 non-null     object\n",
      " 5   데이터기준일자   67 non-null     object\n",
      "dtypes: int64(1), object(5)\n",
      "memory usage: 3.3+ KB\n"
     ]
    }
   ],
   "source": [
    "Gwangju_restaurant.info()"
   ]
  },
  {
   "cell_type": "markdown",
   "metadata": {
    "id": "tNpKNtOpOCCy"
   },
   "source": [
    "# [STEP 3] 결측값 확인 및 처리하기"
   ]
  },
  {
   "cell_type": "code",
   "execution_count": 14,
   "metadata": {
    "colab": {
     "base_uri": "https://localhost:8080/",
     "height": 831
    },
    "executionInfo": {
     "elapsed": 299,
     "status": "ok",
     "timestamp": 1628955629868,
     "user": {
      "displayName": "현녀유",
      "photoUrl": "",
      "userId": "16057793602795239739"
     },
     "user_tz": -540
    },
    "id": "O9FHDztD6XJY",
    "outputId": "8e151d77-2276-483f-c54c-9a08aa825993"
   },
   "outputs": [
    {
     "data": {
      "text/html": [
       "<div>\n",
       "<style scoped>\n",
       "    .dataframe tbody tr th:only-of-type {\n",
       "        vertical-align: middle;\n",
       "    }\n",
       "\n",
       "    .dataframe tbody tr th {\n",
       "        vertical-align: top;\n",
       "    }\n",
       "\n",
       "    .dataframe thead th {\n",
       "        text-align: right;\n",
       "    }\n",
       "</style>\n",
       "<table border=\"1\" class=\"dataframe\">\n",
       "  <thead>\n",
       "    <tr style=\"text-align: right;\">\n",
       "      <th></th>\n",
       "      <th>연번</th>\n",
       "      <th>상호명</th>\n",
       "      <th>소재지도로명주소</th>\n",
       "      <th>전화번호</th>\n",
       "      <th>비고</th>\n",
       "      <th>데이터기준일자</th>\n",
       "    </tr>\n",
       "  </thead>\n",
       "  <tbody>\n",
       "    <tr>\n",
       "      <th>0</th>\n",
       "      <td>False</td>\n",
       "      <td>False</td>\n",
       "      <td>False</td>\n",
       "      <td>False</td>\n",
       "      <td>False</td>\n",
       "      <td>False</td>\n",
       "    </tr>\n",
       "    <tr>\n",
       "      <th>1</th>\n",
       "      <td>False</td>\n",
       "      <td>False</td>\n",
       "      <td>False</td>\n",
       "      <td>False</td>\n",
       "      <td>False</td>\n",
       "      <td>False</td>\n",
       "    </tr>\n",
       "    <tr>\n",
       "      <th>2</th>\n",
       "      <td>False</td>\n",
       "      <td>False</td>\n",
       "      <td>False</td>\n",
       "      <td>False</td>\n",
       "      <td>False</td>\n",
       "      <td>False</td>\n",
       "    </tr>\n",
       "    <tr>\n",
       "      <th>3</th>\n",
       "      <td>False</td>\n",
       "      <td>False</td>\n",
       "      <td>False</td>\n",
       "      <td>False</td>\n",
       "      <td>False</td>\n",
       "      <td>False</td>\n",
       "    </tr>\n",
       "    <tr>\n",
       "      <th>4</th>\n",
       "      <td>False</td>\n",
       "      <td>False</td>\n",
       "      <td>False</td>\n",
       "      <td>False</td>\n",
       "      <td>False</td>\n",
       "      <td>False</td>\n",
       "    </tr>\n",
       "    <tr>\n",
       "      <th>...</th>\n",
       "      <td>...</td>\n",
       "      <td>...</td>\n",
       "      <td>...</td>\n",
       "      <td>...</td>\n",
       "      <td>...</td>\n",
       "      <td>...</td>\n",
       "    </tr>\n",
       "    <tr>\n",
       "      <th>62</th>\n",
       "      <td>False</td>\n",
       "      <td>False</td>\n",
       "      <td>False</td>\n",
       "      <td>False</td>\n",
       "      <td>False</td>\n",
       "      <td>False</td>\n",
       "    </tr>\n",
       "    <tr>\n",
       "      <th>63</th>\n",
       "      <td>False</td>\n",
       "      <td>False</td>\n",
       "      <td>False</td>\n",
       "      <td>False</td>\n",
       "      <td>False</td>\n",
       "      <td>False</td>\n",
       "    </tr>\n",
       "    <tr>\n",
       "      <th>64</th>\n",
       "      <td>False</td>\n",
       "      <td>False</td>\n",
       "      <td>False</td>\n",
       "      <td>False</td>\n",
       "      <td>False</td>\n",
       "      <td>False</td>\n",
       "    </tr>\n",
       "    <tr>\n",
       "      <th>65</th>\n",
       "      <td>False</td>\n",
       "      <td>False</td>\n",
       "      <td>False</td>\n",
       "      <td>False</td>\n",
       "      <td>False</td>\n",
       "      <td>False</td>\n",
       "    </tr>\n",
       "    <tr>\n",
       "      <th>66</th>\n",
       "      <td>False</td>\n",
       "      <td>False</td>\n",
       "      <td>False</td>\n",
       "      <td>False</td>\n",
       "      <td>False</td>\n",
       "      <td>False</td>\n",
       "    </tr>\n",
       "  </tbody>\n",
       "</table>\n",
       "<p>67 rows × 6 columns</p>\n",
       "</div>"
      ],
      "text/plain": [
       "       연번    상호명  소재지도로명주소   전화번호     비고  데이터기준일자\n",
       "0   False  False     False  False  False    False\n",
       "1   False  False     False  False  False    False\n",
       "2   False  False     False  False  False    False\n",
       "3   False  False     False  False  False    False\n",
       "4   False  False     False  False  False    False\n",
       "..    ...    ...       ...    ...    ...      ...\n",
       "62  False  False     False  False  False    False\n",
       "63  False  False     False  False  False    False\n",
       "64  False  False     False  False  False    False\n",
       "65  False  False     False  False  False    False\n",
       "66  False  False     False  False  False    False\n",
       "\n",
       "[67 rows x 6 columns]"
      ]
     },
     "execution_count": 14,
     "metadata": {},
     "output_type": "execute_result"
    }
   ],
   "source": [
    "Gwangju_restaurant.isna() #결측치가 존재하는 경우 True, 없는경우 False를 출력합니다. "
   ]
  },
  {
   "cell_type": "markdown",
   "metadata": {
    "id": "oh2hRjouOM0a"
   },
   "source": [
    "# [STEP 4] 결측값의 개수 확인하기"
   ]
  },
  {
   "cell_type": "code",
   "execution_count": 15,
   "metadata": {
    "colab": {
     "base_uri": "https://localhost:8080/"
    },
    "executionInfo": {
     "elapsed": 282,
     "status": "ok",
     "timestamp": 1628955635730,
     "user": {
      "displayName": "현녀유",
      "photoUrl": "",
      "userId": "16057793602795239739"
     },
     "user_tz": -540
    },
    "id": "ySHvylmd5Kqq",
    "outputId": "43c3ed77-8db4-448b-fe83-b144ae00e7c8"
   },
   "outputs": [
    {
     "data": {
      "text/plain": [
       "연번          0\n",
       "상호명         0\n",
       "소재지도로명주소    0\n",
       "전화번호        0\n",
       "비고          0\n",
       "데이터기준일자     0\n",
       "dtype: int64"
      ]
     },
     "execution_count": 15,
     "metadata": {},
     "output_type": "execute_result"
    }
   ],
   "source": [
    "Gwangju_restaurant.isna().sum()"
   ]
  },
  {
   "cell_type": "markdown",
   "metadata": {
    "id": "j2zJqK3wOUuS"
   },
   "source": [
    "# [STEP 5] 결측값을 특정한 값으로 채우기"
   ]
  },
  {
   "cell_type": "code",
   "execution_count": 16,
   "metadata": {
    "colab": {
     "base_uri": "https://localhost:8080/",
     "height": 831
    },
    "executionInfo": {
     "elapsed": 283,
     "status": "ok",
     "timestamp": 1628955638274,
     "user": {
      "displayName": "현녀유",
      "photoUrl": "",
      "userId": "16057793602795239739"
     },
     "user_tz": -540
    },
    "id": "_nkME5gVN0Pk",
    "outputId": "2cf17f23-c60a-484d-d52d-7090fa7deec3"
   },
   "outputs": [
    {
     "data": {
      "text/html": [
       "<div>\n",
       "<style scoped>\n",
       "    .dataframe tbody tr th:only-of-type {\n",
       "        vertical-align: middle;\n",
       "    }\n",
       "\n",
       "    .dataframe tbody tr th {\n",
       "        vertical-align: top;\n",
       "    }\n",
       "\n",
       "    .dataframe thead th {\n",
       "        text-align: right;\n",
       "    }\n",
       "</style>\n",
       "<table border=\"1\" class=\"dataframe\">\n",
       "  <thead>\n",
       "    <tr style=\"text-align: right;\">\n",
       "      <th></th>\n",
       "      <th>연번</th>\n",
       "      <th>상호명</th>\n",
       "      <th>소재지도로명주소</th>\n",
       "      <th>전화번호</th>\n",
       "      <th>비고</th>\n",
       "      <th>데이터기준일자</th>\n",
       "    </tr>\n",
       "  </thead>\n",
       "  <tbody>\n",
       "    <tr>\n",
       "      <th>0</th>\n",
       "      <td>1</td>\n",
       "      <td>100족발본점</td>\n",
       "      <td>광주광역시 광산구</td>\n",
       "      <td>062-951-1033</td>\n",
       "      <td>건강맛집</td>\n",
       "      <td>2021-11-30</td>\n",
       "    </tr>\n",
       "    <tr>\n",
       "      <th>1</th>\n",
       "      <td>2</td>\n",
       "      <td>강의리추어탕</td>\n",
       "      <td>광주광역시 북구</td>\n",
       "      <td>062-527-0937</td>\n",
       "      <td>건강맛집</td>\n",
       "      <td>2021-11-30</td>\n",
       "    </tr>\n",
       "    <tr>\n",
       "      <th>2</th>\n",
       "      <td>3</td>\n",
       "      <td>강촌</td>\n",
       "      <td>광주광역시 서구</td>\n",
       "      <td>062-374-3579</td>\n",
       "      <td>건강맛집</td>\n",
       "      <td>2021-11-30</td>\n",
       "    </tr>\n",
       "    <tr>\n",
       "      <th>3</th>\n",
       "      <td>4</td>\n",
       "      <td>관가</td>\n",
       "      <td>광주광역시 동구</td>\n",
       "      <td>062-226-0040</td>\n",
       "      <td>건강맛집</td>\n",
       "      <td>2021-11-30</td>\n",
       "    </tr>\n",
       "    <tr>\n",
       "      <th>4</th>\n",
       "      <td>5</td>\n",
       "      <td>광후장어</td>\n",
       "      <td>광주광역시 광산구</td>\n",
       "      <td>062-954-5900</td>\n",
       "      <td>건강맛집</td>\n",
       "      <td>2021-11-30</td>\n",
       "    </tr>\n",
       "    <tr>\n",
       "      <th>...</th>\n",
       "      <td>...</td>\n",
       "      <td>...</td>\n",
       "      <td>...</td>\n",
       "      <td>...</td>\n",
       "      <td>...</td>\n",
       "      <td>...</td>\n",
       "    </tr>\n",
       "    <tr>\n",
       "      <th>62</th>\n",
       "      <td>63</td>\n",
       "      <td>행랑채</td>\n",
       "      <td>광주광역시 북구</td>\n",
       "      <td>062-575-8228</td>\n",
       "      <td>나들이맛집</td>\n",
       "      <td>2021-11-30</td>\n",
       "    </tr>\n",
       "    <tr>\n",
       "      <th>63</th>\n",
       "      <td>64</td>\n",
       "      <td>현완단겸 상추튀김</td>\n",
       "      <td>광주광역시 서구</td>\n",
       "      <td>062-375-3721</td>\n",
       "      <td>대표음식맛집</td>\n",
       "      <td>2021-11-30</td>\n",
       "    </tr>\n",
       "    <tr>\n",
       "      <th>64</th>\n",
       "      <td>65</td>\n",
       "      <td>현주네이야기</td>\n",
       "      <td>광주광역시 북구</td>\n",
       "      <td>062-573-9880</td>\n",
       "      <td>대표음식맛집</td>\n",
       "      <td>2021-11-30</td>\n",
       "    </tr>\n",
       "    <tr>\n",
       "      <th>65</th>\n",
       "      <td>66</td>\n",
       "      <td>홍춘이</td>\n",
       "      <td>광주광역시 북구</td>\n",
       "      <td>062-521-7733</td>\n",
       "      <td>게미맛집</td>\n",
       "      <td>2021-11-30</td>\n",
       "    </tr>\n",
       "    <tr>\n",
       "      <th>66</th>\n",
       "      <td>67</td>\n",
       "      <td>효정</td>\n",
       "      <td>광주광역시 북구</td>\n",
       "      <td>062-363-0558</td>\n",
       "      <td>게미맛집</td>\n",
       "      <td>2021-11-30</td>\n",
       "    </tr>\n",
       "  </tbody>\n",
       "</table>\n",
       "<p>67 rows × 6 columns</p>\n",
       "</div>"
      ],
      "text/plain": [
       "    연번        상호명   소재지도로명주소          전화번호      비고     데이터기준일자\n",
       "0    1    100족발본점  광주광역시 광산구  062-951-1033    건강맛집  2021-11-30\n",
       "1    2     강의리추어탕   광주광역시 북구  062-527-0937    건강맛집  2021-11-30\n",
       "2    3         강촌   광주광역시 서구  062-374-3579    건강맛집  2021-11-30\n",
       "3    4         관가  광주광역시 동구   062-226-0040    건강맛집  2021-11-30\n",
       "4    5       광후장어  광주광역시 광산구  062-954-5900    건강맛집  2021-11-30\n",
       "..  ..        ...        ...           ...     ...         ...\n",
       "62  63        행랑채  광주광역시 북구   062-575-8228   나들이맛집  2021-11-30\n",
       "63  64  현완단겸 상추튀김   광주광역시 서구  062-375-3721  대표음식맛집  2021-11-30\n",
       "64  65     현주네이야기  광주광역시 북구   062-573-9880  대표음식맛집  2021-11-30\n",
       "65  66        홍춘이  광주광역시 북구   062-521-7733    게미맛집  2021-11-30\n",
       "66  67         효정   광주광역시 북구  062-363-0558    게미맛집  2021-11-30\n",
       "\n",
       "[67 rows x 6 columns]"
      ]
     },
     "execution_count": 16,
     "metadata": {},
     "output_type": "execute_result"
    }
   ],
   "source": [
    "Gwangju_restaurant.fillna(0)"
   ]
  },
  {
   "cell_type": "markdown",
   "metadata": {
    "id": "LSawMwRWO7iS"
   },
   "source": [
    "# [STEP 6] 도수분포표 그리기"
   ]
  },
  {
   "cell_type": "code",
   "execution_count": 18,
   "metadata": {
    "colab": {
     "base_uri": "https://localhost:8080/",
     "height": 284
    },
    "id": "wIv2UuHRTr2r",
    "outputId": "6d13f642-d199-4af5-f363-19e18f0cb9c7"
   },
   "outputs": [
    {
     "data": {
      "text/plain": [
       "광주광역시 서구     24\n",
       "광주광역시 북구     15\n",
       "광주광역시 동구     10\n",
       "광주광역시 광산구     9\n",
       "광주광역시 남구      5\n",
       "광주광역시 북구      2\n",
       "광주광역시 동구      2\n",
       "Name: 소재지도로명주소, dtype: int64"
      ]
     },
     "execution_count": 18,
     "metadata": {},
     "output_type": "execute_result"
    }
   ],
   "source": [
    "Gwangju_restaurant.소재지도로명주소.value_counts() # 지역 별 맛집수를 정리해서 출력한다. "
   ]
  },
  {
   "cell_type": "markdown",
   "metadata": {
    "id": "4RK1B2lLPCnr"
   },
   "source": [
    "# [STEP 7] 도수분포표의 비율 계산하기"
   ]
  },
  {
   "cell_type": "code",
   "execution_count": 21,
   "metadata": {
    "colab": {
     "base_uri": "https://localhost:8080/",
     "height": 284
    },
    "id": "C6J8PQAleGwC",
    "outputId": "d3b5a58f-8e4f-4be7-89c3-0239df4c993e"
   },
   "outputs": [
    {
     "data": {
      "text/html": [
       "<div>\n",
       "<style scoped>\n",
       "    .dataframe tbody tr th:only-of-type {\n",
       "        vertical-align: middle;\n",
       "    }\n",
       "\n",
       "    .dataframe tbody tr th {\n",
       "        vertical-align: top;\n",
       "    }\n",
       "\n",
       "    .dataframe thead th {\n",
       "        text-align: right;\n",
       "    }\n",
       "</style>\n",
       "<table border=\"1\" class=\"dataframe\">\n",
       "  <thead>\n",
       "    <tr style=\"text-align: right;\">\n",
       "      <th></th>\n",
       "      <th>맛집수</th>\n",
       "      <th>맛집비율</th>\n",
       "    </tr>\n",
       "  </thead>\n",
       "  <tbody>\n",
       "    <tr>\n",
       "      <th>광주광역시 서구</th>\n",
       "      <td>24</td>\n",
       "      <td>35.82</td>\n",
       "    </tr>\n",
       "    <tr>\n",
       "      <th>광주광역시 북구</th>\n",
       "      <td>15</td>\n",
       "      <td>22.39</td>\n",
       "    </tr>\n",
       "    <tr>\n",
       "      <th>광주광역시 동구</th>\n",
       "      <td>10</td>\n",
       "      <td>14.93</td>\n",
       "    </tr>\n",
       "    <tr>\n",
       "      <th>광주광역시 광산구</th>\n",
       "      <td>9</td>\n",
       "      <td>13.43</td>\n",
       "    </tr>\n",
       "    <tr>\n",
       "      <th>광주광역시 남구</th>\n",
       "      <td>5</td>\n",
       "      <td>7.46</td>\n",
       "    </tr>\n",
       "    <tr>\n",
       "      <th>광주광역시 북구</th>\n",
       "      <td>2</td>\n",
       "      <td>2.99</td>\n",
       "    </tr>\n",
       "    <tr>\n",
       "      <th>광주광역시 동구</th>\n",
       "      <td>2</td>\n",
       "      <td>2.99</td>\n",
       "    </tr>\n",
       "  </tbody>\n",
       "</table>\n",
       "</div>"
      ],
      "text/plain": [
       "           맛집수   맛집비율\n",
       "광주광역시 서구    24  35.82\n",
       "광주광역시 북구    15  22.39\n",
       "광주광역시 동구    10  14.93\n",
       "광주광역시 광산구    9  13.43\n",
       "광주광역시 남구     5   7.46\n",
       "광주광역시 북구     2   2.99\n",
       "광주광역시 동구     2   2.99"
      ]
     },
     "execution_count": 21,
     "metadata": {},
     "output_type": "execute_result"
    }
   ],
   "source": [
    "import numpy as np\n",
    "\n",
    "Count_Restaurant = pd.DataFrame(Gwangju_restaurant.소재지도로명주소.value_counts())                 # 지역 별 맛집수를 Dataframe에 정리한다.\n",
    "Count_Restaurant.columns=[\"맛집수\"]\n",
    "Count_Restaurant[\"맛집비율\"]= np.round(Count_Restaurant.맛집수/sum(Count_Restaurant.맛집수)*100,2)\n",
    "\n",
    "Count_Restaurant"
   ]
  },
  {
   "cell_type": "markdown",
   "metadata": {
    "id": "0IQkJWE_PIy6"
   },
   "source": [
    "# [응용] 맛집 종류 도수분포표 구하기 (예제)"
   ]
  },
  {
   "cell_type": "code",
   "execution_count": 22,
   "metadata": {
    "colab": {
     "base_uri": "https://localhost:8080/",
     "height": 284
    },
    "id": "M8FU-4kjMNmH",
    "outputId": "74a3c66b-b687-477d-a2c9-0b09884dad30"
   },
   "outputs": [
    {
     "data": {
      "text/html": [
       "<div>\n",
       "<style scoped>\n",
       "    .dataframe tbody tr th:only-of-type {\n",
       "        vertical-align: middle;\n",
       "    }\n",
       "\n",
       "    .dataframe tbody tr th {\n",
       "        vertical-align: top;\n",
       "    }\n",
       "\n",
       "    .dataframe thead th {\n",
       "        text-align: right;\n",
       "    }\n",
       "</style>\n",
       "<table border=\"1\" class=\"dataframe\">\n",
       "  <thead>\n",
       "    <tr style=\"text-align: right;\">\n",
       "      <th></th>\n",
       "      <th>종류</th>\n",
       "      <th>맛집종류비율</th>\n",
       "    </tr>\n",
       "  </thead>\n",
       "  <tbody>\n",
       "    <tr>\n",
       "      <th>대표음식맛집</th>\n",
       "      <td>19</td>\n",
       "      <td>28.36</td>\n",
       "    </tr>\n",
       "    <tr>\n",
       "      <th>건강맛집</th>\n",
       "      <td>14</td>\n",
       "      <td>20.90</td>\n",
       "    </tr>\n",
       "    <tr>\n",
       "      <th>나들이맛집</th>\n",
       "      <td>14</td>\n",
       "      <td>20.90</td>\n",
       "    </tr>\n",
       "    <tr>\n",
       "      <th>게미맛집</th>\n",
       "      <td>12</td>\n",
       "      <td>17.91</td>\n",
       "    </tr>\n",
       "    <tr>\n",
       "      <th>청춘맛집</th>\n",
       "      <td>8</td>\n",
       "      <td>11.94</td>\n",
       "    </tr>\n",
       "  </tbody>\n",
       "</table>\n",
       "</div>"
      ],
      "text/plain": [
       "        종류  맛집종류비율\n",
       "대표음식맛집  19   28.36\n",
       "건강맛집    14   20.90\n",
       "나들이맛집   14   20.90\n",
       "게미맛집    12   17.91\n",
       "청춘맛집     8   11.94"
      ]
     },
     "execution_count": 22,
     "metadata": {},
     "output_type": "execute_result"
    }
   ],
   "source": [
    "Restaurant_type =  pd.DataFrame(Gwangju_restaurant.비고.value_counts()) # 지역 별 맛집수를 정리해서 출력한다.\n",
    "Restaurant_type.columns=[\"종류\"]\n",
    "Restaurant_type[\"맛집종류비율\"]= np.round(Restaurant_type.종류/sum(Restaurant_type.종류)*100,2)\n",
    "Restaurant_type"
   ]
  },
  {
   "cell_type": "code",
   "execution_count": 40,
   "metadata": {},
   "outputs": [],
   "source": [
    "from matplotlib import rc\n",
    "import matplotlib.font_manager as fm\n",
    "\n",
    "# 디렉토리 및 파일 이름에 맞추어 변경\n",
    "font_location = 'NanumGothic.ttf'\n",
    "\n",
    "font_name = fm.FontProperties(fname=font_location).get_name()\n",
    "rc('font', family=font_name)"
   ]
  },
  {
   "cell_type": "markdown",
   "metadata": {
    "id": "ryDyDHcPPZ5q"
   },
   "source": [
    "# [STEP 9] 데이터 막대그래프로 표현하기"
   ]
  },
  {
   "cell_type": "code",
   "execution_count": 43,
   "metadata": {
    "colab": {
     "base_uri": "https://localhost:8080/"
    },
    "id": "bld6Lb17HCyu",
    "outputId": "8358dc34-e22b-44e1-d106-8aebeeaf4705"
   },
   "outputs": [
    {
     "data": {
      "image/png": "[encoded data removed]",
      "text/plain": [
       "<Figure size 864x288 with 1 Axes>"
      ]
     },
     "metadata": {
      "needs_background": "light"
     },
     "output_type": "display_data"
    }
   ],
   "source": [
    "import matplotlib.pyplot as plt\n",
    "plt.figure(figsize=(12,4))\n",
    "plt.title('Gwangju Restaurant',fontsize =16)\n",
    "plt.bar(지역별맛집수.index,지역별맛집수['맛집수'])\n",
    "plt.show()\n"
   ]
  }
 ],
 "metadata": {
  "colab": {
   "collapsed_sections": [],
   "name": "2_1.ipynb",
   "provenance": []
  },
  "kernelspec": {
   "display_name": "Python 3 (ipykernel)",
   "language": "python",
   "name": "python3"
  },
  "language_info": {
   "codemirror_mode": {
    "name": "ipython",
    "version": 3
   },
   "file_extension": ".py",
   "mimetype": "text/x-python",
   "name": "python",
   "nbconvert_exporter": "python",
   "pygments_lexer": "ipython3",
   "version": "3.10.4"
  }
 },
 "nbformat": 4,
 "nbformat_minor": 4
}
